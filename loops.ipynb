{
 "cells": [
  {
   "cell_type": "markdown",
   "id": "e93b9d8e",
   "metadata": {},
   "source": [
    "Imagine you are a pizza chef and you have to make 10 pizzas. You have a list of ingredients and a recipe to follow. You start making the first pizza, and after it's done, you move on to the second pizza, and so on until you have made all 10 pizzas. This is like using a loop in Python. \n",
    "\n",
    "A loop is a way of repeating a set of instructions multiple times. Instead of writing out the same instructions over and over again, you can use a loop to do it for you. Just like making pizzas, you can use a loop to repeat a set of instructions until you get the desired result. \n",
    "\n",
    "In Python, there are two types of loops: `for` loops and `while` loops. A `for` loop is like a chef making pizzas from a list of ingredients. You know how many pizzas you want to make, and you have a list of ingredients to use. You can use a `for` loop to go through each ingredient in the list and make the pizzas. \n",
    "\n",
    "A `while` loop is like a chef making pizzas until they are all done. You don't know how many pizzas you need to make, but you keep making them until you run out of ingredients or until you have made enough. \n",
    "\n",
    "Loops can be very powerful tools in programming, especially when dealing with large amounts of data or when performing repetitive tasks. By using loops, you can automate many processes and save yourself a lot of time and effort."
   ]
  },
  {
   "cell_type": "markdown",
   "id": "9c6fd727",
   "metadata": {},
   "source": [
    "## Introduction to Loops in Python\n",
    "\n",
    "In programming, loops are used to execute a block of code repeatedly until a certain condition is met. Python has two types of loops: `for` and `while` loops.\n",
    "\n",
    "### For Loops\n",
    "\n",
    "A `for` loop is used when we know exactly how many times we want to repeat a block of code. We can use a `for` loop to iterate through a sequence of elements, such as a list or a string.\n",
    "\n",
    "Let's say we have a list of numbers and we want to print each number in the list:\n",
    "\n",
    "```python\n",
    "numbers = [1, 2, 3, 4, 5]\n",
    "\n",
    "for n in numbers:\n",
    "    print(n)\n",
    "```\n",
    "\n",
    "In this code, we first define a list of numbers `[1, 2, 3, 4, 5]`. We then use a `for` loop to iterate through each number in the list. The loop variable `n` takes on the value of each element in the list, and we print out that value using the `print()` function.\n",
    "\n",
    "The output of this code would be:\n",
    "\n",
    "```\n",
    "1\n",
    "2\n",
    "3\n",
    "4\n",
    "5\n",
    "```\n",
    "\n",
    "### While Loops\n",
    "\n",
    "A `while` loop is used when we want to repeat a block of code until a certain condition is met. The code inside the `while` loop will keep executing as long as the condition is `True`.\n",
    "\n",
    "Let's say we want to keep asking the user for their name until they enter a valid name (i.e. a non-empty string):\n",
    "\n",
    "```python\n",
    "name = \"\"\n",
    "\n",
    "while name == \"\":\n",
    "    name = input(\"What is your name? \")\n",
    "\n",
    "print(\"Hello, \" + name + \"!\")\n",
    "```\n",
    "\n",
    "In this code, we first set the variable `name` to an empty string. We then use a `while` loop to keep asking the user for their name until they enter a non-empty string. The condition for the `while` loop is `name == \"\"`, which means the loop will keep executing as long as `name` is an empty string.\n",
    "\n",
    "Inside the loop, we use the `input()` function to ask the user for their name, and we store their input in the `name` variable. Once the user enters a non-empty string, the condition for the `while` loop will be `False`, and the loop will exit.\n",
    "\n",
    "Finally, we print out a greeting message that includes the user's name.\n",
    "\n",
    "### Conclusion\n",
    "\n",
    "Loops are an essential part of programming, and they allow us to execute a block of code repeatedly with minimal effort. In Python, we have two types of loops: `for` and `while` loops. `for` loops are used when we know exactly how many times we want to repeat a block of code, while `while` loops are used when we want to repeat a block of code until a certain condition is met."
   ]
  },
  {
   "cell_type": "markdown",
   "id": "22f95df6",
   "metadata": {},
   "source": [
    "Design a program that asks the user to input a positive integer and then prints out the sum of all the even numbers from 2 to that integer using a loop.\n",
    "\n",
    "Example Output:\n",
    "```\n",
    "Please enter a positive integer: 8\n",
    "The sum of all even numbers from 2 to 8 is: 20\n",
    "```\n",
    "\n",
    "Hints:\n",
    "- Use the `input()` function to ask the user for input.\n",
    "- Use a `for` loop to iterate through all even numbers from 2 to the user's input.\n",
    "- Use an `if` statement to check if the current number is even.\n",
    "- Use a variable to keep track of the sum of all even numbers."
   ]
  },
  {
   "cell_type": "code",
   "execution_count": null,
   "id": "f120f496-b18f-4941-9703-533d86b3ab03",
   "metadata": {},
   "outputs": [],
   "source": [
    "Sure, here's an example:\n",
    "\n",
    "```\n",
    "# This method should print numbers from 1 to 10 using a for loop\n",
    "def print_numbers_with_for_loop():\n",
    "    # TODO: Implement this method\n",
    "    pass\n",
    "\n",
    "# This method should print even numbers from 2 to 20 using a while loop\n",
    "def print_even_numbers_with_while_loop():\n",
    "    # TODO: Implement this method\n",
    "    pass\n",
    "\n",
    "# This method should calculate the sum of numbers from 1 to n using a for loop\n",
    "def calculate_sum_with_for_loop(n):\n",
    "    # TODO: Implement this method\n",
    "    pass\n",
    "```\n",
    "\n",
    "And here are three assertion tests that could be used to verify if the above methods have been implemented correctly:\n",
    "\n",
    "```\n",
    "assert print_numbers_with_for_loop() == \"1\\n2\\n3\\n4\\n5\\n6\\n7\\n8\\n9\\n10\\n\"\n",
    "assert print_even_numbers_with_while_loop() == \"2\\n4\\n6\\n8\\n10\\n12\\n14\\n16\\n18\\n20\\n\"\n",
    "assert calculate_sum_with_for_loop(5) == 15\n",
    "``` \n",
    "\n",
    "These tests check if the `print_numbers_with_for_loop` method prints the correct sequence of numbers, if the `print_even_numbers_with_while_loop` method prints the correct even numbers, and if the `calculate_sum_with_for_loop` method calculates the correct sum for a given input."
   ]
  }
 ],
 "metadata": {
  "kernelspec": {
   "display_name": "Python 3",
   "language": "python",
   "name": "python3"
  },
  "language_info": {
   "name": "python",
   "version": "3.9.1 (default, Mar 28 2023, 13:24:17) \n[Clang 14.0.0 (clang-1400.0.29.202)]"
  },
  "vscode": {
   "interpreter": {
    "hash": "a56c9bee4eca7e8bcd3f4cc8082d0801f0a260540eed1d189fdca2a92179f74b"
   }
  }
 },
 "nbformat": 4,
 "nbformat_minor": 5
}
