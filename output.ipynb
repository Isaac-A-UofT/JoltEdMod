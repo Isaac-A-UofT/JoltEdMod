{
 "cells": [
  {
   "cell_type": "markdown",
   "id": "855846ca",
   "metadata": {},
   "source": [
    "Hello students, today we are going to talk about conditionals in Python. In programming, we often need to make decisions based on certain conditions. Conditionals are like a fork in the road, where we can choose to go in one direction or another depending on the situation.\n",
    "\n",
    "Think of it like this, you are standing at a crossroad and there are multiple paths in front of you. Each path leads to a different destination, and you need to make a decision on which path to take based on certain conditions. For example, if you see a sign that says \"shortcut this way,\" you might choose to take that path. Or, if you see a sign that says \"danger ahead,\" you might choose to take a different path.\n",
    "\n",
    "Similarly, in programming, we use conditionals to make decisions based on certain conditions. We use keywords like `if`, `else`, and `elif` to define these conditions and the actions that should be taken based on them. For example, if a certain condition is true, we might execute a piece of code, and if it's false, we might execute a different piece of code.\n",
    "\n",
    "In summary, conditionals in Python are like a fork in the road, where we choose a path based on certain conditions. By using keywords like `if`, `else`, and `elif`, we can define these conditions and the actions that should be taken based on them."
   ]
  },
  {
   "cell_type": "markdown",
   "id": "30672236",
   "metadata": {},
   "source": [
    "# Introduction to Conditionals in Python\n",
    "\n",
    "Welcome to the lecture on Conditionals in Python. In this lecture, we will cover the basics of conditional statements in Python. \n",
    "\n",
    "## What are Conditionals?\n",
    "\n",
    "A conditional statement is a statement that performs different actions depending on whether a certain condition is true or false. Simply put, it is a way of writing an if-then statement in Python. \n",
    "\n",
    "## Syntax of Conditionals\n",
    "\n",
    "The basic syntax of a conditional statement in Python is as follows:\n",
    "\n",
    "```python\n",
    "if condition:\n",
    "    # code block to execute if condition is True\n",
    "else:\n",
    "    # code block to execute if condition is False\n",
    "```\n",
    "\n",
    "## Example of Conditionals\n",
    "\n",
    "Let's take a simple example of a program that checks if a number is even or odd. \n",
    "\n",
    "```python\n",
    "# program to check if a number is even or odd\n",
    "num = int(input(\"Enter a number: \")) # taking user input\n",
    "\n",
    "if num % 2 == 0: # checking if the number is even\n",
    "    print(\"The number is even.\")\n",
    "else:\n",
    "    print(\"The number is odd.\")\n",
    "```\n",
    "\n",
    "In the above code, we have taken user input in the form of an integer, and then checked whether the number is even or odd using a conditional statement. If the number is even, then the program prints \"The number is even.\" Otherwise, it prints \"The number is odd.\"\n",
    "\n",
    "## Conclusion\n",
    "\n",
    "In conclusion, conditionals are an important part of programming in Python. They allow us to write code that can perform different actions based on certain conditions. In this lecture, we have covered the basic syntax of conditionals in Python and provided an example of a program that uses conditionals."
   ]
  },
  {
   "cell_type": "markdown",
   "id": "63df0250",
   "metadata": {},
   "source": [
    "Write a program that takes in two integers as input and compares them to each other. If the first integer is greater than the second integer, the program should output \"The first integer is greater than the second integer.\" If the second integer is greater than the first integer, the program should output \"The second integer is greater than the first integer.\" If the two integers are equal, the program should output \"The two integers are equal.\" \n",
    "\n",
    "For example, if the input integers are 5 and 7, the program should output \"The second integer is greater than the first integer.\" If the input integers are 3 and 3, the program should output \"The two integers are equal.\" \n",
    "\n",
    "This problem will require the use of conditional statements (if-else statements) to compare the two integers and determine which one is greater, or if they are equal. It will also give students practice with taking input from the user and outputting results."
   ]
  },
  {
   "cell_type": "code",
   "execution_count": null,
   "id": "b7610714-7d94-4e98-8e9f-222cd131dc51",
   "metadata": {},
   "outputs": [],
   "source": [
    "conditionals correctly.\n",
    "\n",
    "Question: Write a Python program that takes in a user's age and determines if they are eligible to vote in an election. The legal voting age is 18.\n",
    "\n",
    "```\n",
    "def check_voter_eligibility(age):\n",
    "    \"\"\"\n",
    "    This method takes in a user's age and determines if they are eligible to vote in an election.\n",
    "    The legal voting age is 18. If the user's age is greater than or equal to 18, return \"You are eligible to vote.\"\n",
    "    If the user's age is less than 18, return \"You are not eligible to vote yet.\"\n",
    "    \"\"\"\n",
    "    pass\n",
    "\n",
    "# Assertion tests\n",
    "assert check_voter_eligibility(20) == \"You are eligible to vote.\"\n",
    "assert check_voter_eligibility(17) == \"You are not eligible to vote yet.\"\n",
    "assert check_voter_eligibility(18) == \"You are eligible to vote.\""
   ]
  }
 ],
 "metadata": {},
 "nbformat": 4,
 "nbformat_minor": 5
}
